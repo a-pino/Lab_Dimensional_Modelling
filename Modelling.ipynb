{
 "cells": [
  {
   "cell_type": "code",
   "execution_count": null,
   "metadata": {},
   "outputs": [],
   "source": [
    "import pandas as pd\n",
    "import glob\n",
    "\n",
    "# Get a list of all CSV file paths in the data folder\n",
    "csv_files = glob.glob('data/*.csv')\n",
    "\n",
    "# Load each CSV file as a dataframe\n",
    "dataframes = {}\n",
    "for file in csv_files:\n",
    "    # Extract the filename without extension as the dataframe name\n",
    "    dataframe_name = file.split('/')[-1].split('.')[0]\n",
    "    # Load the CSV file as a dataframe\n",
    "    dataframes[dataframe_name] = pd.read_csv(file)\n",
    "\n",
    "# Access the dataframes using their names\n",
    "class_enrollment_facts_df = dataframes['class_enrollment_facts']\n",
    "classes_df = dataframes['classes']\n",
    "departments_df = dataframes['departments']\n",
    "schools_df = dataframes['schools']\n",
    "students_df = dataframes['students']\n"
   ]
  },
  {
   "cell_type": "code",
   "execution_count": null,
   "metadata": {},
   "outputs": [],
   "source": [
    "# Merge the ClassEnrollmentFacts with Classes, Departments, and Schools\n",
    "merged_df = pd.merge(class_enrollment_facts_df, classes_df, on='ClassID')\n",
    "merged_df = pd.merge(merged_df, departments_df, on='DepartmentID')\n",
    "merged_df = pd.merge(merged_df, schools_df, on='SchoolID')\n"
   ]
  }
 ],
 "metadata": {
  "language_info": {
   "name": "python"
  }
 },
 "nbformat": 4,
 "nbformat_minor": 2
}
